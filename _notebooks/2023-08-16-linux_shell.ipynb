{
 "cells": [
  {
   "attachments": {},
   "cell_type": "markdown",
   "metadata": {},
   "source": [
    "---\n",
    "layout: post\n",
    "title: Linux Shell and Bash\n",
    "description: A Tech Talk on Linux and the Bash shell.\n",
    "toc: true\n",
    "comments: true\n",
    "categories: [5.A, C4.1]\n",
    "courses: { csse: {week: 1}, csp: {week: 1, categories: [6.B]}, csa: {week: 1}, compsci: {week: 3} }\n",
    "type: hacks\n",
    "---"
   ]
  },
  {
   "attachments": {},
   "cell_type": "markdown",
   "metadata": {},
   "source": [
    "## Bash Tutorial\n",
    "> A brief overview of Bash, on your way to becoming a Linux expert.  When a computer boots up, a kernel (MacOS, Windows, Linux) is started.  This kernel provides a shell that allows user to interact with a most basic set of commands.  Typically, the casual user will not interact with the shell as a Desktop User Interface is started by the computer boot up process.  To activate a shell directly, users will run a \"terminal\" through the Desktop. VS Code provides ability to activate \"terminal\" while in the IDE."
   ]
  },
  {
   "attachments": {},
   "cell_type": "markdown",
   "metadata": {},
   "source": [
    "## Prerequisites\n",
    "> Setup bash shell dependency variables for this page.\n",
    "\n",
    "- Hack: Change variables to match your project."
   ]
  },
  {
   "cell_type": "code",
   "execution_count": 12,
   "metadata": {
    "vscode": {
     "languageId": "shellscript"
    }
   },
   "outputs": [],
   "source": [
    "%%script bash\n",
    "\n",
    "# Dependency Variables, set to match your project directories\n",
    "\n",
    "cat <<EOF > /tmp/variables.sh\n",
    "export project_dir=$HOME/vscode  # change vscode to different name to test git clone\n",
    "export project=\\$project_dir/student  # change teacher to name of project from git clone\n",
    "export project_repo=\"https://github.com/Nathaniel633/student\"  # change to project of choice\n",
    "EOF"
   ]
  },
  {
   "cell_type": "code",
   "execution_count": 13,
   "metadata": {
    "vscode": {
     "languageId": "shellscript"
    }
   },
   "outputs": [
    {
     "name": "stdout",
     "output_type": "stream",
     "text": [
      "Project dir: /Users/nathano/vscode\n",
      "Project: /Users/nathano/vscode/student\n",
      "Repo: https://github.com/Nathaniel633/student\n"
     ]
    }
   ],
   "source": [
    "%%script bash\n",
    "\n",
    "# Extract saved variables\n",
    "source /tmp/variables.sh\n",
    "\n",
    "# Access the variables\n",
    "echo \"Project dir: $project_dir\"\n",
    "echo \"Project: $project\"\n",
    "echo \"Repo: $project_repo\""
   ]
  },
  {
   "attachments": {},
   "cell_type": "markdown",
   "metadata": {},
   "source": [
    "## Setup Project\n",
    "> Pull code from GitHub to your machine. This script will create a project directory and add \"project\" from GitHub to the vscode directory.  There is conditional logic to make sure that clone only happen if it does not (!) exist."
   ]
  },
  {
   "cell_type": "code",
   "execution_count": 14,
   "metadata": {
    "vscode": {
     "languageId": "shellscript"
    }
   },
   "outputs": [
    {
     "name": "stdout",
     "output_type": "stream",
     "text": [
      "Using conditional statement to create a project directory and project\n",
      "Directory /Users/nathano/vscode exists.\n",
      "Directory /Users/nathano/vscode/student exists.\n"
     ]
    }
   ],
   "source": [
    "%%script bash\n",
    "\n",
    "# Extract saved variables\n",
    "source /tmp/variables.sh\n",
    "\n",
    "echo \"Using conditional statement to create a project directory and project\"\n",
    "\n",
    "cd ~    # start in home directory\n",
    "\n",
    "# Conditional block to make a project directory\n",
    "if [ ! -d $project_dir ]\n",
    "then \n",
    "    echo \"Directory $project_dir does not exists... makinng directory $project_dir\"\n",
    "    mkdir -p $project_dir\n",
    "fi\n",
    "echo \"Directory $project_dir exists.\" \n",
    "\n",
    "# Conditional block to git clone a project from project_repo\n",
    "if [ ! -d $project ]\n",
    "then\n",
    "    echo \"Directory $project does not exists... cloning $project_repo\"\n",
    "    cd $project_dir\n",
    "    git clone $project_repo\n",
    "    cd ~\n",
    "fi\n",
    "echo \"Directory $project exists.\" "
   ]
  },
  {
   "attachments": {},
   "cell_type": "markdown",
   "metadata": {},
   "source": [
    "### Look at files Github project\n",
    "> All computers contain files and directories.  The clone brought more files from cloud to your machine.  Review the bash shell script observe the commands that show and interact with files and directories.\n",
    "\n",
    "- \"ls\" lists computer files in Unix and Unix-like operating systems\n",
    "- \"cd\" offers way to navigate and change working directory\n",
    "- \"pwd\" print working directory\n",
    "- \"echo\" used to display line of text/string that are passed as an argument"
   ]
  },
  {
   "cell_type": "code",
   "execution_count": 15,
   "metadata": {
    "vscode": {
     "languageId": "shellscript"
    }
   },
   "outputs": [
    {
     "name": "stdout",
     "output_type": "stream",
     "text": [
      "Navigate to project, then navigate to area wwhere files were cloned\n",
      "/Users/nathano/vscode/student\n",
      "\n",
      "list top level or root of files with project pulled from github\n",
      "Gemfile\n",
      "Gemfile.lock\n",
      "LICENSE\n",
      "Makefile\n",
      "README.md\n",
      "_config.yml\n",
      "\u001b[34m_data\u001b[m\u001b[m\n",
      "\u001b[34m_includes\u001b[m\u001b[m\n",
      "\u001b[34m_layouts\u001b[m\u001b[m\n",
      "\u001b[34m_notebooks\u001b[m\u001b[m\n",
      "\u001b[34m_posts\u001b[m\u001b[m\n",
      "\u001b[34m_site\u001b[m\u001b[m\n",
      "\u001b[31mactivate.sh\u001b[m\u001b[m\n",
      "csa.md\n",
      "csp.md\n",
      "csse.md\n",
      "\u001b[34mimages\u001b[m\u001b[m\n",
      "index.md\n",
      "indexBlogs.md\n",
      "\u001b[34mscripts\u001b[m\u001b[m\n",
      "\u001b[34mvendor\u001b[m\u001b[m\n"
     ]
    }
   ],
   "source": [
    "%%script bash\n",
    "\n",
    "# Extract saved variables\n",
    "source /tmp/variables.sh\n",
    "\n",
    "echo \"Navigate to project, then navigate to area wwhere files were cloned\"\n",
    "cd $project\n",
    "pwd\n",
    "\n",
    "echo \"\"\n",
    "echo \"list top level or root of files with project pulled from github\"\n",
    "ls\n"
   ]
  },
  {
   "attachments": {},
   "cell_type": "markdown",
   "metadata": {},
   "source": [
    "### Look at file list with hidden and long attributes\n",
    "> Most linux commands have options to enhance behavior\n",
    "\n",
    "[ls reference](https://www.rapidtables.com/code/linux/ls.html)"
   ]
  },
  {
   "cell_type": "code",
   "execution_count": 16,
   "metadata": {
    "vscode": {
     "languageId": "shellscript"
    }
   },
   "outputs": [
    {
     "name": "stdout",
     "output_type": "stream",
     "text": [
      "Navigate to project, then navigate to area where files were cloned\n",
      "/Users/nathano/vscode/student\n",
      "\n",
      "list all files in long format\n",
      "total 120\n",
      "drwxr-xr-x  27 nathano  staff   864 Aug 22 09:22 \u001b[34m.\u001b[m\u001b[m\n",
      "drwxr-xr-x   4 nathano  staff   128 Aug 18 09:24 \u001b[34m..\u001b[m\u001b[m\n",
      "drwxr-xr-x   3 nathano  staff    96 Aug 18 16:36 \u001b[34m.bundle\u001b[m\u001b[m\n",
      "drwxr-xr-x  12 nathano  staff   384 Aug 18 09:24 \u001b[34m.git\u001b[m\u001b[m\n",
      "drwxr-xr-x   3 nathano  staff    96 Aug 18 09:24 \u001b[34m.github\u001b[m\u001b[m\n",
      "-rw-r--r--   1 nathano  staff   104 Aug 18 09:24 .gitignore\n",
      "-rw-r--r--   1 nathano  staff   122 Aug 18 09:24 Gemfile\n",
      "-rw-r--r--   1 nathano  staff  7297 Aug 22 09:22 Gemfile.lock\n",
      "-rw-r--r--   1 nathano  staff  1081 Aug 18 09:24 LICENSE\n",
      "-rw-r--r--   1 nathano  staff  3114 Aug 18 09:24 Makefile\n",
      "-rw-r--r--   1 nathano  staff  5857 Aug 21 10:16 README.md\n",
      "-rw-r--r--   1 nathano  staff   451 Aug 18 09:24 _config.yml\n",
      "drwxr-xr-x   6 nathano  staff   192 Aug 18 09:24 \u001b[34m_data\u001b[m\u001b[m\n",
      "drwxr-xr-x   9 nathano  staff   288 Aug 18 09:24 \u001b[34m_includes\u001b[m\u001b[m\n",
      "drwxr-xr-x   6 nathano  staff   192 Aug 18 09:24 \u001b[34m_layouts\u001b[m\u001b[m\n",
      "drwxr-xr-x   5 nathano  staff   160 Aug 22 08:59 \u001b[34m_notebooks\u001b[m\u001b[m\n",
      "drwxr-xr-x   8 nathano  staff   256 Aug 22 09:02 \u001b[34m_posts\u001b[m\u001b[m\n",
      "drwxr-xr-x  18 nathano  staff   576 Aug 23 10:11 \u001b[34m_site\u001b[m\u001b[m\n",
      "-rwxr-xr-x   1 nathano  staff  1291 Aug 18 09:24 \u001b[31mactivate.sh\u001b[m\u001b[m\n",
      "-rw-r--r--   1 nathano  staff    92 Aug 18 09:24 csa.md\n",
      "-rw-r--r--   1 nathano  staff    98 Aug 18 09:24 csp.md\n",
      "-rw-r--r--   1 nathano  staff   108 Aug 18 09:24 csse.md\n",
      "drwxr-xr-x   7 nathano  staff   224 Aug 18 09:24 \u001b[34mimages\u001b[m\u001b[m\n",
      "-rw-r--r--   1 nathano  staff   799 Aug 22 09:24 index.md\n",
      "-rw-r--r--   1 nathano  staff    53 Aug 18 09:24 indexBlogs.md\n",
      "drwxr-xr-x   4 nathano  staff   128 Aug 18 09:24 \u001b[34mscripts\u001b[m\u001b[m\n",
      "drwxr-xr-x   3 nathano  staff    96 Aug 18 16:36 \u001b[34mvendor\u001b[m\u001b[m\n"
     ]
    }
   ],
   "source": [
    "%%script bash\n",
    "\n",
    "# Extract saved variables\n",
    "source /tmp/variables.sh\n",
    "\n",
    "echo \"Navigate to project, then navigate to area where files were cloned\"\n",
    "cd $project\n",
    "pwd\n",
    "\n",
    "echo \"\"\n",
    "echo \"list all files in long format\"\n",
    "ls -al   # all files -a (hidden) in -l long listing"
   ]
  },
  {
   "cell_type": "code",
   "execution_count": 17,
   "metadata": {
    "vscode": {
     "languageId": "shellscript"
    }
   },
   "outputs": [
    {
     "name": "stdout",
     "output_type": "stream",
     "text": [
      "Look for posts\n",
      "/Users/nathano/vscode/student/_posts\n",
      "total 104\n",
      "-rw-r--r--  1 nathano  staff   1812 Aug 21 10:16 2023-08-15-Tools_Sprint.md\n",
      "-rw-r--r--  1 nathano  staff   4397 Aug 18 09:24 2023-08-16-Tools_Equipment.md\n",
      "-rw-r--r--  1 nathano  staff  24248 Aug 23 10:12 2023-08-16-linux_shell_IPYNB_2_.md\n",
      "-rw-r--r--  1 nathano  staff   3752 Aug 22 09:02 2023-08-17-AP-pseudo-vs-python_IPYNB_2_.md\n",
      "-rw-r--r--  1 nathano  staff    468 Aug 18 09:24 2023-08-21-GitHub_Pages.md\n",
      "-rw-r--r--  1 nathano  staff   6059 Aug 22 09:02 2023-08-21-VSCode-GitHub_Pages_IPYNB_2_.md\n"
     ]
    }
   ],
   "source": [
    "%%script bash\n",
    "\n",
    "# Extract saved variables\n",
    "source /tmp/variables.sh\n",
    "\n",
    "echo \"Look for posts\"\n",
    "export posts=$project/_posts  # _posts inside project\n",
    "cd $posts  # this should exist per fastpages\n",
    "pwd  # present working directory\n",
    "ls -l  # list posts"
   ]
  },
  {
   "cell_type": "code",
   "execution_count": 18,
   "metadata": {
    "vscode": {
     "languageId": "shellscript"
    }
   },
   "outputs": [
    {
     "name": "stdout",
     "output_type": "stream",
     "text": [
      "Look for notebooks\n",
      "/Users/nathano/vscode/student/_notebooks\n",
      "total 112\n",
      "-rw-r--r--  1 nathano  staff  33817 Aug 23 10:12 2023-08-16-linux_shell.ipynb\n",
      "-rw-r--r--  1 nathano  staff   5415 Aug 18 09:24 2023-08-17-AP-pseudo-vs-python.ipynb\n",
      "-rw-r--r--  1 nathano  staff   8615 Aug 18 09:24 2023-08-21-VSCode-GitHub_Pages.ipynb\n"
     ]
    }
   ],
   "source": [
    "%%script bash\n",
    "\n",
    "# Extract saved variables\n",
    "source /tmp/variables.sh\n",
    "\n",
    "echo \"Look for notebooks\"\n",
    "export notebooks=$project/_notebooks  # _notebooks is inside project\n",
    "cd $notebooks   # this should exist per fastpages\n",
    "pwd  # present working directory\n",
    "ls -l  # list notebooks"
   ]
  },
  {
   "cell_type": "code",
   "execution_count": 25,
   "metadata": {
    "vscode": {
     "languageId": "shellscript"
    }
   },
   "outputs": [
    {
     "name": "stdout",
     "output_type": "stream",
     "text": [
      "Look for images in notebooks, print working directory, list files\n",
      "/Users/nathano/vscode/student/_notebooks\n"
     ]
    },
    {
     "name": "stderr",
     "output_type": "stream",
     "text": [
      "bash: line 6: cd: /images: No such file or directory\n"
     ]
    },
    {
     "name": "stdout",
     "output_type": "stream",
     "text": [
      "total 104\n",
      "-rw-r--r--  1 nathano  staff  32312 Aug 23 10:20 2023-08-16-linux_shell.ipynb\n",
      "-rw-r--r--  1 nathano  staff   5415 Aug 18 09:24 2023-08-17-AP-pseudo-vs-python.ipynb\n",
      "-rw-r--r--  1 nathano  staff   8615 Aug 18 09:24 2023-08-21-VSCode-GitHub_Pages.ipynb\n"
     ]
    }
   ],
   "source": [
    "%%script bash\n",
    "\n",
    "# Extract saved variables\n",
    "source /tmp/variables.sh\n",
    "\n",
    "echo \"Look for images in notebooks, print working directory, list files\"\n",
    "cd $notebooks/images # this shouold exist per fastpages\n",
    "pwd\n",
    "ls -l"
   ]
  },
  {
   "attachments": {},
   "cell_type": "markdown",
   "metadata": {},
   "source": [
    "### Look inside a Markdown File\n",
    "> \"cat\" reads data from the file and gives its content as output"
   ]
  },
  {
   "cell_type": "code",
   "execution_count": 20,
   "metadata": {
    "vscode": {
     "languageId": "shellscript"
    }
   },
   "outputs": [
    {
     "name": "stdout",
     "output_type": "stream",
     "text": [
      "Navigate to project, then navigate to area wwhere files were cloned\n",
      "show the contents of README.md\n",
      "\n",
      "# MY NAME IS NATHAN AND I SUFFER FROM MENTAL RETARDATION\n",
      "\n",
      "\n",
      "## Blog site using GitHub Pages and Jekyll\n",
      "> This site is intended for Students.   This is to record plans, complete hacks, and do work for your learnings.\n",
      "- This can be customized to support computer science as you work through pathway (JavaScript, Python/Flask, Java/Spring)\n",
      "- All tangible artifact work is in a _posts or in a _notebooks.  \n",
      "- Front matter (aka meta data) in ipynb and md files is used to organize information according to week and column in running web site.\n",
      "\n",
      "## GitHub Pages\n",
      "All `GitHub Pages` websites are managed on GitHub infrastructure. GitHub uses `Jekyll` to tranform your content into static websites and blogs. Each time we change files in GitHub it initiates a GitHub Action that rebuilds and publishes the site with Jekyll.  \n",
      "- GitHub Pages is powered by: [Jekyll](https://jekyllrb.com/).\n",
      "- Publised teacher website: [nighthawkcoders.github.io/teacher](https://nighthawkcoders.github.io/teacher/)\n",
      "\n",
      "## Preparing a Preview Site \n",
      "In all development, it is recommended to test your code before deployment.  The GitHub Pages development process is optimized by testing your development on your local machine, prior to files on GitHub\n",
      "\n",
      "Development Cycle. For GitHub pages, the tooling described below will create a development cycle  `make-code-save-preview`.  In the development cycle, it is a requirement to preview work locally, prior to doing a VSCode `commit` to git.\n",
      "\n",
      "Deployment Cycle.  In the deplopyment cycle, `sync-github-action-review`, it is a requirement to complete the development cycle prior to doing a VSCode `sync`.  The sync triggers github repository update.  The action starts the jekyll build to publish the website.  Any step can have errors and will require you to do a review.\n",
      "\n",
      "### WSL and/or Ubuntu installation requirements\n",
      "- The result of these step is Ubuntu tools to run preview server.  These procedures were created using [jekyllrb.com](https://jekyllrb.com/docs/installation/ubuntu/)\n",
      "- Run scripts in scripts directory of teacher repo: setup_ubuntu.sh and activate.sh.  Or, follow commands below.\n",
      "```bash\n",
      "## WSL/Ubuntu commands\n",
      "# sudo apt install, installs packages for Ubuntu\n",
      "echo \"=== Ugrade Packages ===\"\n",
      "sudo apt update\n",
      "sudo apt upgrade -y\n",
      "#\n",
      "echo \"=== Install Ruby ===\"\n",
      "sudo apt install -y ruby-full build-essential zlib1g-dev\n",
      "# \n",
      "echo \"=== Install Python ===\"\n",
      "sudo apt-get install -y python3 python3-pip python-is-python3\n",
      "#    \n",
      "echo \"=== Install Jupyter Notebook ===\"\n",
      "sudo apt-get install -y jupyter-notebook\n",
      "\n",
      "# bash commands, install user requirements.\n",
      "echo \"=== GitHub pages build tools  ===\"\n",
      "export GEM_HOME=\"$HOME/gems\"\n",
      "export PATH=\"$HOME/gems/bin:$PATH\"\n",
      "echo '# Install Ruby Gems to ~/gems' >> ~/.bashrc\n",
      "echo 'export GEM_HOME=\"$HOME/gems\"' >> ~/.bashrc\n",
      "echo 'export PATH=\"$HOME/gems/bin:$PATH\"' >> ~/.bashrc\n",
      "echo \"=== Gem install starting, thinking... ===\"\n",
      "gem install jekyll bundler\n",
      "head -30 ./teacher/scripts/activate.sh\n",
      "echo \"=== !!!Start a new Terminal!!! ===\"\n",
      "```\n",
      "\n",
      "### MacOs installation requirements \n",
      "- Ihe result of these step are MacOS tools to run preview server.  These procedures were created using [jekyllrb.com](https://jekyllrb.com/docs/installation/macos/). Run scripts in scripts directory of teacher repo: setup_macos.sh and activate_macos.sh.  Or, follow commands below.\n",
      "```bash\n",
      "# MacOS commands\n",
      "# brew install, installs packages for MacOS\n",
      "echo \"=== Ugrade Packages ===\"\n",
      "brew update\n",
      "brew upgrade\n",
      "#\n",
      "echo \"=== Install Ruby ===\"\n",
      "brew install chruby ruby-install xz\n",
      "ruby-install ruby 3.1.3\n",
      "#\n",
      "echo \"=== Install Python ===\"\n",
      "brew install python\n",
      "#    \n",
      "echo \"=== Install Jupyter Notebook ===\"\n",
      "brew install jupyter\n",
      "\n",
      "# bash commands, install user requirements.\n",
      "export GEM_HOME=\"$HOME/gems\"\n",
      "export PATH=\"$HOME/gems/bin:$PATH\"\n",
      "echo '# Install Ruby Gems to ~/gems' >> ~/.zshrc\n",
      "echo 'export GEM_HOME=\"$HOME/gems\"' >> ~/.zshrc\n",
      "echo 'export PATH=\"$HOME/gems/bin:$PATH\"' >> ~/.zshrc\n",
      "echo \"=== Gem install starting, thinking... ===\"\n",
      "gem install jekyll bundler\n",
      "head -30 ./teacher/scripts/activate.sh\n",
      "echo \"=== !!!Start a new Terminal!!! ===\"\n",
      "```\n",
      "\n",
      "### Preview\n",
      "- The result of these step is server running on: http://0.0.0.0:4100/teacher/.  Regeneration messages will run in terminal on any save.  Press the Enter or Return key in the terminal at any time to enter commands.\n",
      "\n",
      "- Complete installation\n",
      "```bash\n",
      "bundle install\n",
      "```\n",
      "- Run Server.  This requires running terminal commands `make`, `make stop`, `make clean`, or `make convert` to manage the running server.  Logging of details will appear in terminal.   A `Makefile` has been created in project to support commands and start processes.\n",
      "\n",
      "    - Start preview server in terminal\n",
      "    ```bash\n",
      "    cd ~/vscode/teacher  # my project location, adapt as necessary\n",
      "    make\n",
      "    ```\n",
      "\n",
      "    - Terminal output of shows server address. Cmd or Ctl click http location to open preview server in browser. Example Server address message... \n",
      "    ```\n",
      "    Server address: http://0.0.0.0:4100/teacher/\n",
      "    ```\n",
      "\n",
      "    - Save on ipynb or md activiates \"regeneration\". Refresh browser to see updates. Example terminal message...\n",
      "    ```\n",
      "    Regenerating: 1 file(s) changed at 2023-07-31 06:54:32\n",
      "        _notebooks/2024-01-04-cockpit-setup.ipynb\n",
      "    ```\n",
      "\n",
      "    - Terminal message are generated from background processes.  Click return or enter to obtain prompt and use terminal as needed for other tasks.  Alway return to root of project `cd ~/vscode/teacher` for all \"make\" actions. \n",
      "        \n",
      "\n",
      "    - Stop preview server, but leave constructed files in project for your review.\n",
      "    ```bash\n",
      "    make stop\n",
      "    ```\n",
      "\n",
      "    - Stop server and \"clean\" constructed files, best choice when renaming files to eliminate potential duplicates in constructed files.\n",
      "    ```bash\n",
      "    make clean\n",
      "    ```\n",
      "\n",
      "    - Test notebook conversions, best choice to see if IPYNB conversion is acting up.\n",
      "    ```bash\n",
      "    make convert\n",
      "    ```\n",
      "\n",
      "end of README.md\n"
     ]
    }
   ],
   "source": [
    "%%script bash\n",
    "\n",
    "# Extract saved variables\n",
    "source /tmp/variables.sh\n",
    "\n",
    "echo \"Navigate to project, then navigate to area wwhere files were cloned\"\n",
    "\n",
    "cd $project\n",
    "echo \"show the contents of README.md\"\n",
    "echo \"\"\n",
    "\n",
    "cat README.md  # show contents of file, in this case markdown\n",
    "echo \"\"\n",
    "echo \"end of README.md\"\n"
   ]
  },
  {
   "attachments": {},
   "cell_type": "markdown",
   "metadata": {},
   "source": [
    "### Env, Git and GitHub\n",
    "> Env(ironment) is used to capture things like path to Code or Home directory.  Git and GitHub is NOT Only used to exchange code between individuals, it is often used to exchange code through servers, in our case deployment for Website.   All tools we use have a behind the scenes hav relationship with the system they run on (MacOS, Windows, Linus) or a relationship with servers which they are connected to (ie GitHub).  There is an \"env\" command in bash.  There are environment files and setting files (.git/config) for Git.  They both use a key/value concept.\n",
    "\n",
    "- \"env\" show setting for your shell\n",
    "- \"git clone\" sets up a director of files\n",
    "- \"cd $project\" allows user to move inside that directory of files\n",
    "- \".git\" is a hidden directory that is used by git to establish relationship between machine and the git server on GitHub.  "
   ]
  },
  {
   "cell_type": "code",
   "execution_count": 21,
   "metadata": {
    "vscode": {
     "languageId": "shellscript"
    }
   },
   "outputs": [
    {
     "name": "stdout",
     "output_type": "stream",
     "text": [
      "Show the shell environment variables, key on left of equal value on right\n",
      "\n",
      "MANPATH=/opt/homebrew/share/man::\n",
      "VSCODE_CRASH_REPORTER_PROCESS_TYPE=extensionHost\n",
      "GEM_HOME=/Users/nathano/gems\n",
      "TERM=xterm-color\n",
      "SHELL=/bin/zsh\n",
      "CLICOLOR=1\n",
      "TMPDIR=/var/folders/p0/gvqt4wmj657fk6fx_h2k4wnr0000gn/T/\n",
      "HOMEBREW_REPOSITORY=/opt/homebrew\n",
      "CONDA_SHLVL=1\n",
      "PYTHONUNBUFFERED=1\n",
      "CONDA_PROMPT_MODIFIER=(base) \n",
      "ORIGINAL_XDG_CURRENT_DESKTOP=undefined\n",
      "MallocNanoZone=0\n",
      "PYDEVD_USE_FRAME_EVAL=NO\n",
      "PYTHONIOENCODING=utf-8\n",
      "USER=nathano\n",
      "COMMAND_MODE=unix2003\n",
      "CONDA_EXE=/Users/nathano/anaconda3/bin/conda\n",
      "SSH_AUTH_SOCK=/private/tmp/com.apple.launchd.9yWMi4PtJZ/Listeners\n",
      "__CF_USER_TEXT_ENCODING=0x1F5:0x0:0x0\n",
      "PAGER=cat\n",
      "ELECTRON_RUN_AS_NODE=1\n",
      "VSCODE_AMD_ENTRYPOINT=vs/workbench/api/node/extensionHostProcess\n",
      "PATH=/opt/homebrew/bin:/Users/nathano/Library/Python/3.11/bin:/Users/nathano/anaconda3/bin:/Users/nathano/anaconda3/condabin:/Users/nathano/gems/bin:/Users/nathano/.rbenv/shims:/Users/nathano/gems/bin:/Users/nathano/gems/bin:/Users/nathano/gems/bin:/opt/homebrew/bin:/opt/homebrew/sbin:/usr/local/bin:/usr/bin:/bin:/usr/sbin:/sbin:/Users/nathano/anaconda3/bin:/Users/nathano/anaconda3/condabin:/Users/nathano/gems/bin:/Users/nathano/.rbenv/shims:/Users/nathano/gems/bin:/Users/nathano/gems/bin:/Users/nathano/gems/bin:/opt/homebrew/bin:/opt/homebrew/sbin:/usr/local/bin:/usr/bin:/bin:/usr/sbin:/sbin\n",
      "__CFBundleIdentifier=com.microsoft.VSCode\n",
      "CONDA_PREFIX=/Users/nathano/anaconda3\n",
      "PWD=/Users/nathano/vscode/student/_notebooks\n",
      "VSCODE_HANDLES_UNCAUGHT_ERRORS=true\n",
      "MPLBACKEND=module://matplotlib_inline.backend_inline\n",
      "XPC_FLAGS=0x0\n",
      "FORCE_COLOR=1\n",
      "RBENV_SHELL=zsh\n",
      "XPC_SERVICE_NAME=0\n",
      "SHLVL=1\n",
      "HOME=/Users/nathano\n",
      "VSCODE_NLS_CONFIG={\"locale\":\"en-us\",\"osLocale\":\"en-us\",\"availableLanguages\":{},\"_languagePackSupport\":true}\n",
      "PYDEVD_IPYTHON_COMPATIBLE_DEBUGGING=1\n",
      "HOMEBREW_PREFIX=/opt/homebrew\n",
      "LOGNAME=nathano\n",
      "CONDA_PYTHON_EXE=/Users/nathano/anaconda3/bin/python\n",
      "LC_CTYPE=UTF-8\n",
      "VSCODE_IPC_HOOK=/Users/nathano/Library/Application Support/Code/1.81-main.sock\n",
      "VSCODE_CODE_CACHE_PATH=/Users/nathano/Library/Application Support/Code/CachedData/6c3e3dba23e8fadc360aed75ce363ba185c49794\n",
      "CLICOLOR_FORCE=1\n",
      "CONDA_DEFAULT_ENV=base\n",
      "VSCODE_PID=57379\n",
      "INFOPATH=/opt/homebrew/share/info:\n",
      "HOMEBREW_CELLAR=/opt/homebrew/Cellar\n",
      "GIT_PAGER=cat\n",
      "VSCODE_L10N_BUNDLE_LOCATION=\n",
      "VSCODE_CWD=/\n",
      "_=/usr/bin/env\n"
     ]
    }
   ],
   "source": [
    "%%script bash\n",
    "\n",
    "# This command has no dependencies\n",
    "\n",
    "echo \"Show the shell environment variables, key on left of equal value on right\"\n",
    "echo \"\"\n",
    "\n",
    "env"
   ]
  },
  {
   "cell_type": "code",
   "execution_count": 22,
   "metadata": {
    "vscode": {
     "languageId": "shellscript"
    }
   },
   "outputs": [
    {
     "name": "stdout",
     "output_type": "stream",
     "text": [
      "\n",
      "show the secrets of .git\n",
      "total 40\n",
      "-rw-r--r--   1 nathano  staff    21 Aug 18 09:24 HEAD\n",
      "-rw-r--r--   1 nathano  staff   309 Aug 18 09:24 config\n",
      "-rw-r--r--   1 nathano  staff    73 Aug 18 09:24 description\n",
      "drwxr-xr-x  15 nathano  staff   480 Aug 18 09:24 \u001b[34mhooks\u001b[m\u001b[m\n",
      "-rw-r--r--   1 nathano  staff  3850 Aug 18 09:24 index\n",
      "drwxr-xr-x   3 nathano  staff    96 Aug 18 09:24 \u001b[34minfo\u001b[m\u001b[m\n",
      "drwxr-xr-x   4 nathano  staff   128 Aug 18 09:24 \u001b[34mlogs\u001b[m\u001b[m\n",
      "drwxr-xr-x   4 nathano  staff   128 Aug 18 09:24 \u001b[34mobjects\u001b[m\u001b[m\n",
      "-rw-r--r--   1 nathano  staff   112 Aug 18 09:24 packed-refs\n",
      "drwxr-xr-x   5 nathano  staff   160 Aug 18 09:24 \u001b[34mrefs\u001b[m\u001b[m\n",
      "\n",
      "look at config file\n",
      "[core]\n",
      "\trepositoryformatversion = 0\n",
      "\tfilemode = true\n",
      "\tbare = false\n",
      "\tlogallrefupdates = true\n",
      "\tignorecase = true\n",
      "\tprecomposeunicode = true\n",
      "[remote \"origin\"]\n",
      "\turl = https://github.com/Nathaniel633/student.git\n",
      "\tfetch = +refs/heads/*:refs/remotes/origin/*\n",
      "[branch \"main\"]\n",
      "\tremote = origin\n",
      "\tmerge = refs/heads/main\n"
     ]
    }
   ],
   "source": [
    "%%script bash\n",
    "\n",
    "# Extract saved variables\n",
    "source /tmp/variables.sh\n",
    "\n",
    "cd $project\n",
    "\n",
    "echo \"\"\n",
    "echo \"show the secrets of .git\"\n",
    "cd .git\n",
    "ls -l\n",
    "\n",
    "echo \"\"\n",
    "echo \"look at config file\"\n",
    "cat config"
   ]
  },
  {
   "attachments": {},
   "cell_type": "markdown",
   "metadata": {},
   "source": [
    "### Student Request - Make a file in Bash\n",
    "> This example was requested by a student (Jun Lim, CSA). The request was to make jupyer file using bash, I adapted the request to markdown.  This type of thought will have great extrapolation to coding and possibilities of using List, Arrays, or APIs to build user interfaces.  JavaScript is a language where building HTML is very common.\n",
    "\n",
    "> To get more interesting output from terminal, this will require using something like mdless (https://github.com/ttscoff/mdless).  This enables see markdown in rendered format.\n",
    "- On Desktop [Install PKG from MacPorts](https://www.macports.org/install.php)\n",
    "- In Terminal on MacOS\n",
    "    - [Install ncurses](https://ports.macports.org/port/ncurses/)\n",
    "    - ```gem install mdless```\n",
    "    \n",
    "> Output of the example is much nicer in \"jupyter\""
   ]
  },
  {
   "cell_type": "code",
   "execution_count": 23,
   "metadata": {
    "vscode": {
     "languageId": "shellscript"
    }
   },
   "outputs": [
    {
     "name": "stdout",
     "output_type": "stream",
     "text": [
      "\n",
      "File listing and status\n",
      "-rw-r--r--  1 nathano  wheel  809 Aug 23 10:16 sample.md\n",
      "      15     132     809 sample.md\n"
     ]
    },
    {
     "name": "stderr",
     "output_type": "stream",
     "text": [
      "bash: line 30: mdless: command not found\n"
     ]
    }
   ],
   "source": [
    "%%script bash\n",
    "\n",
    "# This example has error in VSCode, it run best on Jupyter\n",
    "cd /tmp\n",
    "\n",
    "file=\"sample.md\"\n",
    "if [ -f \"$file\" ]; then\n",
    "    rm $file\n",
    "fi\n",
    "\n",
    "tee -a $file >/dev/null <<EOF\n",
    "# Show Generated Markdown\n",
    "This introductory paragraph and this line and the title above are generated using tee with the standard input (<<) redirection operator.\n",
    "- This bulleted element is still part of the tee body.\n",
    "EOF\n",
    "\n",
    "echo \"- This bulleted element and lines below are generated using echo with standard output (>>) redirection operator.\" >> $file\n",
    "echo \"- The list definition, as is, is using space to seperate lines.  Thus the use of commas and hyphens in output.\" >> $file\n",
    "actions=(\"ls,list-directory\" \"cd,change-directory\" \"pwd,present-working-directory\" \"if-then-fi,test-condition\" \"env,bash-environment-variables\" \"cat,view-file-contents\" \"tee,write-to-output\" \"echo,display-content-of-string\" \"echo_text_>\\$file,write-content-to-file\" \"echo_text_>>\\$file,append-content-to-file\")\n",
    "for action in ${actions[@]}; do  # for loop is very similar to other language, though [@], semi-colon, do are new\n",
    "  action=${action//-/ }  # convert dash to space\n",
    "  action=${action//,/: } # convert comma to colon\n",
    "  action=${action//_text_/ \\\"sample text\\\" } # convert _text_ to sample text, note escape character \\ to avoid \"\" having meaning\n",
    "  echo \"    - ${action//-/ }\" >> $file  # echo is redirected to file with >>\n",
    "done\n",
    "\n",
    "echo \"\"\n",
    "echo \"File listing and status\"\n",
    "ls -l $file # list file\n",
    "wc $file   # show words\n",
    "mdless $file  # this requires installation, but renders markown from terminal\n",
    "\n",
    "rm $file  # clean up termporary file"
   ]
  },
  {
   "attachments": {},
   "cell_type": "markdown",
   "metadata": {},
   "source": [
    "## Hack Preparation.\n",
    "> Review Tool Setup Procedures and think about some thing you could verify through a Shell notebook.\n",
    "- Come up with your own student view of this procedure to show your tools are installed.\n",
    "- Name and create notes on some Linux commands you will use frequently.\n",
    "- Is there anything we use to verify tools we install? Review versions checks.\n",
    "- Is there anything we could verify with Anaconda?  or WSL?  \n",
    "- How would you update a repository?  Could you do that in script above?\n"
   ]
  }
 ],
 "metadata": {
  "kernelspec": {
   "display_name": "Python 3.10.6 64-bit",
   "language": "python",
   "name": "python3"
  },
  "language_info": {
   "codemirror_mode": {
    "name": "ipython",
    "version": 3
   },
   "file_extension": ".py",
   "mimetype": "text/x-python",
   "name": "python",
   "nbconvert_exporter": "python",
   "pygments_lexer": "ipython3",
   "version": "3.11.5"
  },
  "vscode": {
   "interpreter": {
    "hash": "aee8b7b246df8f9039afb4144a1f6fd8d2ca17a180786b69acc140d282b71a49"
   }
  }
 },
 "nbformat": 4,
 "nbformat_minor": 2
}
